{
 "cells": [
  {
   "cell_type": "code",
   "execution_count": 58,
   "metadata": {
    "collapsed": false
   },
   "outputs": [],
   "source": [
    "import os\n",
    "import numpy as np\n",
    "from keras.preprocessing.image import ImageDataGenerator, load_img, img_to_array\n",
    "from keras.models import Sequential, load_model\n",
    "import time"
   ]
  },
  {
   "cell_type": "code",
   "execution_count": 59,
   "metadata": {
    "collapsed": true
   },
   "outputs": [],
   "source": [
    "#Define Path\n",
    "model_path = '../models/model5.h5'\n",
    "model_weights_path = '../models/weights5-0.81.hdf5'\n",
    "validation=\"../subdatasets/Validate\"\n",
    "#validation=\"../subdatasets/Test\""
   ]
  },
  {
   "cell_type": "code",
   "execution_count": 60,
   "metadata": {
    "collapsed": false
   },
   "outputs": [],
   "source": [
    "#Load the pre-trained models\n",
    "model = load_model(model_path)\n",
    "model.load_weights(model_weights_path)"
   ]
  },
  {
   "cell_type": "code",
   "execution_count": 61,
   "metadata": {
    "collapsed": true
   },
   "outputs": [],
   "source": [
    "#Define image parameters\n",
    "img_width, img_height = 224, 224\n"
   ]
  },
  {
   "cell_type": "code",
   "execution_count": 62,
   "metadata": {
    "collapsed": false
   },
   "outputs": [],
   "source": [
    "#Prediction Function\n",
    "def predict(file):\n",
    "    x = load_img(file, target_size=(img_width,img_height))\n",
    "    x = img_to_array(x)\n",
    "    x = np.expand_dims(x, axis=0)\n",
    "    array = model.predict(x)\n",
    "    #print(array[0])\n",
    "    result = array[0]\n",
    "    #print(result)\n",
    "    answer = np.argmax(result)\n",
    "    if answer == 0:\n",
    "        #print(\"Predicted: alien\")\n",
    "        return(\"alien\")\n",
    "    elif answer == 1:\n",
    "        #print(\"Predicted: predator\")\n",
    "        return(\"predator\")"
   ]
  },
  {
   "cell_type": "code",
   "execution_count": 63,
   "metadata": {
    "collapsed": false
   },
   "outputs": [
    {
     "name": "stdout",
     "output_type": "stream",
     "text": [
      "accuracy: 0.7\n"
     ]
    }
   ],
   "source": [
    "#Walk the directory for every image\n",
    "pos=0\n",
    "total=0\n",
    "for i, ret in enumerate(os.walk(validation)):\n",
    "    for i, filename in enumerate(ret[2]):\n",
    "        if filename.startswith(\".\"):\n",
    "          continue\n",
    "    \n",
    "        mypath=ret[0].replace(\"\\\\\",\"/\")\n",
    "        #print(mypath + '/' + filename)\n",
    "        \n",
    "        result = predict(mypath + '/' + filename)\n",
    "        if result in mypath:\n",
    "            pos=pos+1\n",
    "        total=total+1\n",
    "        #print(\" \")\n",
    "print(\"accuracy: \"+str(pos/total))"
   ]
  },
  {
   "cell_type": "code",
   "execution_count": null,
   "metadata": {
    "collapsed": true
   },
   "outputs": [],
   "source": []
  }
 ],
 "metadata": {
  "anaconda-cloud": {},
  "kernelspec": {
   "display_name": "Python [conda root]",
   "language": "python",
   "name": "conda-root-py"
  },
  "language_info": {
   "codemirror_mode": {
    "name": "ipython",
    "version": 3
   },
   "file_extension": ".py",
   "mimetype": "text/x-python",
   "name": "python",
   "nbconvert_exporter": "python",
   "pygments_lexer": "ipython3",
   "version": "3.5.2"
  }
 },
 "nbformat": 4,
 "nbformat_minor": 1
}
