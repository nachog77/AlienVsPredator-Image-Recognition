{
 "cells": [
  {
   "cell_type": "markdown",
   "metadata": {},
   "source": [
    "# Create data subsets"
   ]
  },
  {
   "cell_type": "code",
   "execution_count": 1,
   "metadata": {
    "collapsed": true
   },
   "outputs": [],
   "source": [
    "import os  \n",
    "import glob\n",
    "import random \n",
    "from shutil import copyfile"
   ]
  },
  {
   "cell_type": "markdown",
   "metadata": {},
   "source": [
    "## Auxiliar function to create subdirectories"
   ]
  },
  {
   "cell_type": "code",
   "execution_count": 3,
   "metadata": {
    "collapsed": false
   },
   "outputs": [],
   "source": [
    "def create_dir(dir):\n",
    "    try:  \n",
    "        os.mkdir(dir)\n",
    "    except OSError:  \n",
    "        print (\"Creation of the directory %s failed\" % dir)\n",
    "    else:  \n",
    "        print (\"Successfully created the directory %s \" % dir)\n",
    "    "
   ]
  },
  {
   "cell_type": "markdown",
   "metadata": {},
   "source": [
    "## Create subdirectories"
   ]
  },
  {
   "cell_type": "code",
   "execution_count": 4,
   "metadata": {
    "collapsed": false
   },
   "outputs": [
    {
     "name": "stdout",
     "output_type": "stream",
     "text": [
      "Successfully created the directory C:\\Users\\Nacho\\Documents\\Documents\\Python\\AlienPredator\\Notebook/../subdatasets \n",
      "Successfully created the directory C:\\Users\\Nacho\\Documents\\Documents\\Python\\AlienPredator\\Notebook/../subdatasets/Train \n",
      "Successfully created the directory C:\\Users\\Nacho\\Documents\\Documents\\Python\\AlienPredator\\Notebook/../subdatasets/Test \n",
      "Successfully created the directory C:\\Users\\Nacho\\Documents\\Documents\\Python\\AlienPredator\\Notebook/../subdatasets/Validate \n"
     ]
    }
   ],
   "source": [
    "main_training_path=path+\"/../subdatasets\"\n",
    "main_source_path=path+\"/../data\"\n",
    "\n",
    "create_dir(main_training_path)    \n",
    "    \n",
    "train_dataset=main_training_path+\"/Train\"\n",
    "create_dir(train_dataset) \n",
    "\n",
    "test_dataset=main_training_path+\"/Test\"\n",
    "create_dir(test_dataset) \n",
    "\n",
    "validate_dataset=main_training_path+\"/Validate\"\n",
    "create_dir(validate_dataset) \n"
   ]
  },
  {
   "cell_type": "markdown",
   "metadata": {},
   "source": [
    "## Split data\n",
    "original train data is splitted in a/train and /test set with a desired proportion"
   ]
  },
  {
   "cell_type": "code",
   "execution_count": 5,
   "metadata": {
    "collapsed": false
   },
   "outputs": [],
   "source": [
    "def create_subdatasets(name, test_rate):\n",
    "    \n",
    "    train_subdataset=train_dataset+\"/\"+name\n",
    "    create_dir(train_subdataset)\n",
    "    test_subdataset=test_dataset+\"/\"+name\n",
    "    create_dir(test_subdataset)\n",
    "    validate_subdataset=validate_dataset+\"/\"+name\n",
    "    create_dir(validate_subdataset)\n",
    "    \n",
    "    source_dir=main_source_path+\"/train/\"+name\n",
    "    list=(glob.glob(source_dir+\"/*.jpg\"))\n",
    "    list=[os.path.basename(x) for x in list]\n",
    "    list=random.sample(list, len(list))\n",
    "    \n",
    "    train_set=int(len(list)*(1.0-test_rate))\n",
    "    \n",
    "    for index in range(0,train_set):\n",
    "        filename=list[index]\n",
    "        copyfile(source_dir+\"/\"+filename, train_subdataset+\"/\"+filename) \n",
    "        \n",
    "    for index in range(train_set,len(list)):\n",
    "        filename=list[index]\n",
    "        copyfile(source_dir+\"/\"+filename, test_subdataset+\"/\"+filename) \n",
    "        \n",
    "    source_dir_validation=main_source_path+\"/validation/\"+name\n",
    "    list=(glob.glob(source_dir_validation+\"/*.jpg\"))\n",
    "    list=[os.path.basename(x) for x in list]\n",
    "    for index in range(0,len(list)):\n",
    "         filename=list[index]\n",
    "         copyfile(source_dir_validation+\"/\"+filename, validate_subdataset+\"/\"+filename) \n",
    "   "
   ]
  },
  {
   "cell_type": "code",
   "execution_count": 6,
   "metadata": {
    "collapsed": false
   },
   "outputs": [
    {
     "name": "stdout",
     "output_type": "stream",
     "text": [
      "Successfully created the directory C:\\Users\\Nacho\\Documents\\Documents\\Python\\AlienPredator\\Notebook/../subdatasets/Train/alien \n",
      "Successfully created the directory C:\\Users\\Nacho\\Documents\\Documents\\Python\\AlienPredator\\Notebook/../subdatasets/Test/alien \n",
      "Successfully created the directory C:\\Users\\Nacho\\Documents\\Documents\\Python\\AlienPredator\\Notebook/../subdatasets/Validate/alien \n"
     ]
    }
   ],
   "source": [
    "create_subdatasets(\"alien\", 0.3)"
   ]
  },
  {
   "cell_type": "code",
   "execution_count": 7,
   "metadata": {
    "collapsed": false
   },
   "outputs": [
    {
     "name": "stdout",
     "output_type": "stream",
     "text": [
      "Successfully created the directory C:\\Users\\Nacho\\Documents\\Documents\\Python\\AlienPredator\\Notebook/../subdatasets/Train/predator \n",
      "Successfully created the directory C:\\Users\\Nacho\\Documents\\Documents\\Python\\AlienPredator\\Notebook/../subdatasets/Test/predator \n",
      "Successfully created the directory C:\\Users\\Nacho\\Documents\\Documents\\Python\\AlienPredator\\Notebook/../subdatasets/Validate/predator \n"
     ]
    }
   ],
   "source": [
    "create_subdatasets(\"predator\", 0.3)"
   ]
  },
  {
   "cell_type": "code",
   "execution_count": null,
   "metadata": {
    "collapsed": true
   },
   "outputs": [],
   "source": []
  }
 ],
 "metadata": {
  "anaconda-cloud": {},
  "kernelspec": {
   "display_name": "Python [conda root]",
   "language": "python",
   "name": "conda-root-py"
  },
  "language_info": {
   "codemirror_mode": {
    "name": "ipython",
    "version": 3
   },
   "file_extension": ".py",
   "mimetype": "text/x-python",
   "name": "python",
   "nbconvert_exporter": "python",
   "pygments_lexer": "ipython3",
   "version": "3.5.2"
  }
 },
 "nbformat": 4,
 "nbformat_minor": 1
}
