{
 "cells": [
  {
   "cell_type": "markdown",
   "metadata": {},
   "source": [
    "# Two-layer convolutional neural network"
   ]
  },
  {
   "cell_type": "code",
   "execution_count": 43,
   "metadata": {
    "collapsed": false
   },
   "outputs": [],
   "source": [
    "import sys\n",
    "import os\n",
    "from keras.preprocessing.image import ImageDataGenerator\n",
    "from keras import optimizers\n",
    "from keras.models import Sequential\n",
    "from keras.layers import Dropout, Flatten, Dense, Activation\n",
    "from keras.layers.convolutional import Convolution2D, MaxPooling2D\n",
    "from keras import callbacks\n",
    "from keras.callbacks import ModelCheckpoint\n",
    "from keras.regularizers import l2\n",
    "import time"
   ]
  },
  {
   "cell_type": "markdown",
   "metadata": {},
   "source": [
    "## Parameters"
   ]
  },
  {
   "cell_type": "code",
   "execution_count": 44,
   "metadata": {
    "collapsed": true
   },
   "outputs": [],
   "source": [
    "epochs = 20\n",
    "DEV = True"
   ]
  },
  {
   "cell_type": "code",
   "execution_count": 45,
   "metadata": {
    "collapsed": true
   },
   "outputs": [],
   "source": [
    "train_data_path = '../subdatasets/Train'\n",
    "validation_data_path = '../subdatasets/Test'"
   ]
  },
  {
   "cell_type": "code",
   "execution_count": 46,
   "metadata": {
    "collapsed": true
   },
   "outputs": [],
   "source": [
    "\"\"\"\n",
    "Parameters\n",
    "\"\"\"\n",
    "img_width, img_height = 224, 224\n",
    "batch_size = 32\n",
    "samples_per_epoch = 1000\n",
    "test_steps = 210\n",
    "\n",
    "nb_filters1 = 32\n",
    "nb_filters2 = 64\n",
    "conv1_size = 3\n",
    "conv2_size = 2\n",
    "\n",
    "pool_size = 2\n",
    "classes_num = 2\n",
    "lr2= 0.001"
   ]
  },
  {
   "cell_type": "markdown",
   "metadata": {},
   "source": [
    "## Model design"
   ]
  },
  {
   "cell_type": "code",
   "execution_count": 47,
   "metadata": {
    "collapsed": false
   },
   "outputs": [],
   "source": [
    "model = Sequential()\n",
    "model.add(Convolution2D(nb_filters1, (conv1_size, conv1_size), padding =\"same\", input_shape=(img_width, img_height, 3),kernel_regularizer=l2(lr2)))\n",
    "model.add(Dropout(0.3))\n",
    "model.add(Activation(\"relu\"))\n",
    "model.add(MaxPooling2D(pool_size=(pool_size, pool_size)))\n",
    "\n",
    "\n",
    "model.add(Convolution2D(nb_filters2, (conv2_size, conv2_size), padding =\"same\" ,kernel_regularizer=l2(lr2)))\n",
    "model.add(Activation(\"relu\"))\n",
    "model.add(Dropout(0.3))\n",
    "model.add(MaxPooling2D(pool_size=(pool_size, pool_size)))\n",
    "\n",
    "model.add(Flatten())\n",
    "model.add(Dense(256,kernel_regularizer=l2(lr2)))\n",
    "model.add(Activation(\"relu\"))\n",
    "model.add(Dropout(0.5))\n",
    "model.add(Dense(classes_num, activation='softmax',kernel_regularizer=l2(lr2)))\n",
    "\n",
    "model.compile(loss='sparse_categorical_crossentropy',\n",
    "              #optimizer=optimizers.RMSprop(lr=lr),\n",
    "              optimizer=optimizers.Adam(),\n",
    "              metrics=['accuracy'])\n"
   ]
  },
  {
   "cell_type": "code",
   "execution_count": 48,
   "metadata": {
    "collapsed": false
   },
   "outputs": [
    {
     "name": "stdout",
     "output_type": "stream",
     "text": [
      "_________________________________________________________________\n",
      "Layer (type)                 Output Shape              Param #   \n",
      "=================================================================\n",
      "conv2d_7 (Conv2D)            (None, 224, 224, 32)      896       \n",
      "_________________________________________________________________\n",
      "activation_10 (Activation)   (None, 224, 224, 32)      0         \n",
      "_________________________________________________________________\n",
      "max_pooling2d_7 (MaxPooling2 (None, 112, 112, 32)      0         \n",
      "_________________________________________________________________\n",
      "conv2d_8 (Conv2D)            (None, 112, 112, 64)      8256      \n",
      "_________________________________________________________________\n",
      "activation_11 (Activation)   (None, 112, 112, 64)      0         \n",
      "_________________________________________________________________\n",
      "max_pooling2d_8 (MaxPooling2 (None, 56, 56, 64)        0         \n",
      "_________________________________________________________________\n",
      "flatten_4 (Flatten)          (None, 200704)            0         \n",
      "_________________________________________________________________\n",
      "dense_7 (Dense)              (None, 256)               51380480  \n",
      "_________________________________________________________________\n",
      "activation_12 (Activation)   (None, 256)               0         \n",
      "_________________________________________________________________\n",
      "dropout_4 (Dropout)          (None, 256)               0         \n",
      "_________________________________________________________________\n",
      "dense_8 (Dense)              (None, 2)                 514       \n",
      "=================================================================\n",
      "Total params: 51,390,146\n",
      "Trainable params: 51,390,146\n",
      "Non-trainable params: 0\n",
      "_________________________________________________________________\n"
     ]
    }
   ],
   "source": [
    "model.summary()"
   ]
  },
  {
   "cell_type": "markdown",
   "metadata": {},
   "source": [
    "## Save model"
   ]
  },
  {
   "cell_type": "code",
   "execution_count": 55,
   "metadata": {
    "collapsed": false
   },
   "outputs": [],
   "source": [
    "target_dir = '../models/'\n",
    "if not os.path.exists(target_dir):\n",
    "  os.mkdir(target_dir)\n",
    "model.save('../models/model5.h5')\n"
   ]
  },
  {
   "cell_type": "markdown",
   "metadata": {},
   "source": [
    "## Data input for training"
   ]
  },
  {
   "cell_type": "markdown",
   "metadata": {},
   "source": [
    "### Training Data "
   ]
  },
  {
   "cell_type": "code",
   "execution_count": null,
   "metadata": {
    "collapsed": true
   },
   "outputs": [],
   "source": [
    "train_datagen = ImageDataGenerator(\n",
    "    rescale=1. / 255,\n",
    "    shear_range=10,\n",
    "    zoom_range=0.2,\n",
    "    horizontal_flip=True)\n",
    "train_generator = train_datagen.flow_from_directory(\n",
    "    train_data_path,\n",
    "    target_size=(img_height, img_width),\n",
    "    batch_size=batch_size,\n",
    "    class_mode='binary')"
   ]
  },
  {
   "cell_type": "markdown",
   "metadata": {},
   "source": [
    "### Test Data"
   ]
  },
  {
   "cell_type": "code",
   "execution_count": 52,
   "metadata": {
    "collapsed": false
   },
   "outputs": [
    {
     "name": "stdout",
     "output_type": "stream",
     "text": [
      "Found 210 images belonging to 2 classes.\n"
     ]
    }
   ],
   "source": [
    "test_datagen = ImageDataGenerator(rescale=1. / 255)\n",
    "test_generator = test_datagen.flow_from_directory(\n",
    "    validation_data_path,\n",
    "    batch_size=batch_size,\n",
    "    shuffle=False,\n",
    "    target_size=(img_height, img_width),\n",
    "    class_mode='binary')"
   ]
  },
  {
   "cell_type": "markdown",
   "metadata": {},
   "source": [
    "## Train Model. Saving weights as test evaluation increases"
   ]
  },
  {
   "cell_type": "code",
   "execution_count": 53,
   "metadata": {
    "collapsed": true
   },
   "outputs": [],
   "source": [
    "\"\"\"\n",
    "Tensorboard log\n",
    "\"\"\"\n",
    "log_dir = './tf-log/'\n",
    "tb_cb = callbacks.TensorBoard(log_dir=log_dir, histogram_freq=0,write_graph=True, write_images=True)"
   ]
  },
  {
   "cell_type": "code",
   "execution_count": 54,
   "metadata": {
    "collapsed": false
   },
   "outputs": [],
   "source": [
    "# checkpoint\n",
    "filepath=\"../models/weights5-{val_acc:.2f}.hdf5\"\n",
    "checkpoint = ModelCheckpoint(filepath, monitor='val_acc', verbose=1, save_best_only=True, mode='max')\n",
    "callbacks_list = [checkpoint,tb_cb]"
   ]
  },
  {
   "cell_type": "code",
   "execution_count": 56,
   "metadata": {
    "collapsed": false
   },
   "outputs": [
    {
     "name": "stdout",
     "output_type": "stream",
     "text": [
      "Epoch 1/20\n",
      "30/31 [============================>.] - ETA: 5s - loss: 2.9645 - acc: 0.5635 Epoch 00000: val_acc improved from -inf to 0.67188, saving model to ../models/weights5-0.67.hdf5\n",
      "31/31 [==============================] - 192s - loss: 2.9089 - acc: 0.5646 - val_loss: 1.1723 - val_acc: 0.6719\n",
      "Epoch 2/20\n",
      "30/31 [============================>.] - ETA: 5s - loss: 1.0250 - acc: 0.6771 Epoch 00001: val_acc improved from 0.67188 to 0.69663, saving model to ../models/weights5-0.70.hdf5\n",
      "31/31 [==============================] - 180s - loss: 1.0242 - acc: 0.6763 - val_loss: 0.8867 - val_acc: 0.6966\n",
      "Epoch 3/20\n",
      "30/31 [============================>.] - ETA: 4s - loss: 0.8350 - acc: 0.7458Epoch 00002: val_acc did not improve\n",
      "31/31 [==============================] - 145s - loss: 0.8361 - acc: 0.7427 - val_loss: 0.8608 - val_acc: 0.6573\n",
      "Epoch 4/20\n",
      "30/31 [============================>.] - ETA: 4s - loss: 0.7507 - acc: 0.7427Epoch 00003: val_acc improved from 0.69663 to 0.73034, saving model to ../models/weights5-0.73.hdf5\n",
      "31/31 [==============================] - 154s - loss: 0.7476 - acc: 0.7450 - val_loss: 0.7839 - val_acc: 0.7303\n",
      "Epoch 5/20\n",
      "30/31 [============================>.] - ETA: 4s - loss: 0.7217 - acc: 0.7500Epoch 00004: val_acc did not improve\n",
      "31/31 [==============================] - 145s - loss: 0.7203 - acc: 0.7516 - val_loss: 0.7927 - val_acc: 0.6629\n",
      "Epoch 6/20\n",
      "30/31 [============================>.] - ETA: 4s - loss: 0.6948 - acc: 0.7521Epoch 00005: val_acc did not improve\n",
      "31/31 [==============================] - 157s - loss: 0.6964 - acc: 0.7520 - val_loss: 0.7289 - val_acc: 0.6854\n",
      "Epoch 7/20\n",
      "30/31 [============================>.] - ETA: 5s - loss: 0.6698 - acc: 0.7406 Epoch 00006: val_acc improved from 0.73034 to 0.73034, saving model to ../models/weights5-0.73.hdf5\n",
      "31/31 [==============================] - 175s - loss: 0.6690 - acc: 0.7399 - val_loss: 0.7023 - val_acc: 0.7303\n",
      "Epoch 8/20\n",
      "30/31 [============================>.] - ETA: 4s - loss: 0.6393 - acc: 0.7302Epoch 00007: val_acc did not improve\n",
      "31/31 [==============================] - 147s - loss: 0.6423 - acc: 0.7290 - val_loss: 0.7039 - val_acc: 0.7292\n",
      "Epoch 9/20\n",
      "30/31 [============================>.] - ETA: 4s - loss: 0.6260 - acc: 0.7531Epoch 00008: val_acc did not improve\n",
      "31/31 [==============================] - 147s - loss: 0.6276 - acc: 0.7510 - val_loss: 0.7186 - val_acc: 0.6854\n",
      "Epoch 10/20\n",
      "30/31 [============================>.] - ETA: 4s - loss: 0.6418 - acc: 0.7667Epoch 00009: val_acc did not improve\n",
      "31/31 [==============================] - 148s - loss: 0.6419 - acc: 0.7657 - val_loss: 0.7068 - val_acc: 0.7247\n",
      "Epoch 11/20\n",
      "30/31 [============================>.] - ETA: 4s - loss: 0.6277 - acc: 0.7698Epoch 00010: val_acc improved from 0.73034 to 0.73034, saving model to ../models/weights5-0.73.hdf5\n",
      "31/31 [==============================] - 155s - loss: 0.6290 - acc: 0.7679 - val_loss: 0.6751 - val_acc: 0.7303\n",
      "Epoch 12/20\n",
      "30/31 [============================>.] - ETA: 4s - loss: 0.6272 - acc: 0.7583Epoch 00011: val_acc did not improve\n",
      "31/31 [==============================] - 159s - loss: 0.6316 - acc: 0.7528 - val_loss: 0.6703 - val_acc: 0.7191\n",
      "Epoch 13/20\n",
      "30/31 [============================>.] - ETA: 4s - loss: 0.6090 - acc: 0.7573Epoch 00012: val_acc did not improve\n",
      "31/31 [==============================] - 151s - loss: 0.6071 - acc: 0.7603 - val_loss: 0.6798 - val_acc: 0.7135\n",
      "Epoch 14/20\n",
      "30/31 [============================>.] - ETA: 4s - loss: 0.6270 - acc: 0.7656Epoch 00013: val_acc improved from 0.73034 to 0.74157, saving model to ../models/weights5-0.74.hdf5\n",
      "31/31 [==============================] - 156s - loss: 0.6338 - acc: 0.7637 - val_loss: 0.7100 - val_acc: 0.7416\n",
      "Epoch 15/20\n",
      "30/31 [============================>.] - ETA: 4s - loss: 0.6135 - acc: 0.7760Epoch 00014: val_acc did not improve\n",
      "31/31 [==============================] - 146s - loss: 0.6127 - acc: 0.7783 - val_loss: 0.7125 - val_acc: 0.6875\n",
      "Epoch 16/20\n",
      "30/31 [============================>.] - ETA: 4s - loss: 0.6425 - acc: 0.7500Epoch 00015: val_acc did not improve\n",
      "31/31 [==============================] - 147s - loss: 0.6395 - acc: 0.7581 - val_loss: 0.6598 - val_acc: 0.7079\n",
      "Epoch 17/20\n",
      "30/31 [============================>.] - ETA: 4s - loss: 0.6137 - acc: 0.7729Epoch 00016: val_acc did not improve\n",
      "31/31 [==============================] - 151s - loss: 0.6117 - acc: 0.7785 - val_loss: 0.7284 - val_acc: 0.7191\n",
      "Epoch 18/20\n",
      "30/31 [============================>.] - ETA: 5s - loss: 0.6161 - acc: 0.7677 Epoch 00017: val_acc did not improve\n",
      "31/31 [==============================] - 163s - loss: 0.6150 - acc: 0.7697 - val_loss: 0.6671 - val_acc: 0.7135\n",
      "Epoch 19/20\n",
      "30/31 [============================>.] - ETA: 4s - loss: 0.6441 - acc: 0.7771Epoch 00018: val_acc did not improve\n",
      "31/31 [==============================] - 150s - loss: 0.6404 - acc: 0.7773 - val_loss: 0.6868 - val_acc: 0.7191\n",
      "Epoch 20/20\n",
      "30/31 [============================>.] - ETA: 4s - loss: 0.6586 - acc: 0.7635Epoch 00019: val_acc improved from 0.74157 to 0.75281, saving model to ../models/weights5-0.75.hdf5\n",
      "31/31 [==============================] - 156s - loss: 0.6565 - acc: 0.7634 - val_loss: 0.6685 - val_acc: 0.7528\n"
     ]
    },
    {
     "data": {
      "text/plain": [
       "<keras.callbacks.History at 0x9ab46544a8>"
      ]
     },
     "execution_count": 56,
     "metadata": {},
     "output_type": "execute_result"
    }
   ],
   "source": [
    "model.fit_generator(\n",
    "    train_generator,\n",
    "    steps_per_epoch=samples_per_epoch // batch_size,\n",
    "    epochs=epochs,\n",
    "    validation_data=test_generator,\n",
    "    validation_steps=test_steps // batch_size,\n",
    "    callbacks=callbacks_list, verbose=1)"
   ]
  },
  {
   "cell_type": "code",
   "execution_count": null,
   "metadata": {
    "collapsed": true
   },
   "outputs": [],
   "source": []
  }
 ],
 "metadata": {
  "anaconda-cloud": {},
  "kernelspec": {
   "display_name": "Python [conda root]",
   "language": "python",
   "name": "conda-root-py"
  },
  "language_info": {
   "codemirror_mode": {
    "name": "ipython",
    "version": 3
   },
   "file_extension": ".py",
   "mimetype": "text/x-python",
   "name": "python",
   "nbconvert_exporter": "python",
   "pygments_lexer": "ipython3",
   "version": "3.5.2"
  }
 },
 "nbformat": 4,
 "nbformat_minor": 1
}
